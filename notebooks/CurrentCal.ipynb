{
 "cells": [
  {
   "cell_type": "markdown",
   "id": "9b90741c",
   "metadata": {},
   "source": [
    "# Current Calibration Routine #  \n",
    "- SJ 7/17/22\n",
    "\n",
    "This file will walk through capturing the zero offset count, and scalar for current measurement on each phase. \n",
    "- User will need to monitor current w/ osciliscope and input into script!"
   ]
  },
  {
   "cell_type": "markdown",
   "id": "083c238e",
   "metadata": {},
   "source": [
    "## Setup System & Connect via Ethernet ##"
   ]
  },
  {
   "cell_type": "code",
   "execution_count": 15,
   "id": "1a62aabd",
   "metadata": {
    "scrolled": true
   },
   "outputs": [],
   "source": [
    "import os\n",
    "import pathlib as pl\n",
    "import sys\n",
    "import time\n",
    "import pandas as pd\n",
    "import matplotlib.pyplot as plt\n",
    "\n",
    "repo_dir = pl.Path(os.path.dirname(os.getcwd()))\n",
    "sys.path.append(str(repo_dir / 'AMDC-Firmware' / 'scripts'))\n",
    "\n",
    "from AMDC import AMDC\n",
    "from AMDC_Logger import AMDC_Logger, find_mapfile\n",
    "from AMDC_LivePlot import AMDC_LivePlot\n",
    "\n",
    "amdc = AMDC()\n",
    "\n",
    "# After creating the amdc object...\n",
    "\n",
    "# Set comm defaults for Ethernet\n",
    "amdc.setup_comm_defaults('eth')\n",
    "\n",
    "# Init ethernet \n",
    "amdc.eth_init()\n",
    "\n",
    "# Set up the default ASCII command socket\n",
    "s0, s0_id = amdc.eth_new_socket('ascii_cmd')\n",
    "amdc.eth_set_default_ascii_cmd_socket(s0)\n",
    "\n",
    "# Cretae AMDC Logger Object\n",
    "mapfile_path = find_mapfile(repo_dir)\n",
    "logger = AMDC_Logger(AMDC = amdc, mapfile = mapfile_path)"
   ]
  },
  {
   "cell_type": "markdown",
   "id": "ba16699a",
   "metadata": {},
   "source": [
    "### Procedure ###\n",
    "- get 20 seconds of mid rail no current for all sensors\n",
    "    - do stats on columns of data to get mean value\n",
    "    - store as zero count offset\n",
    "- reprogram system with zero count offset\n",
    "- repeat above 20 second mid rail to ensure mean ~0 counts\n",
    "- on per phase basis run known current through sensor\n",
    "    - repeat 20 seconds data aq.\n",
    "    - stats on data to get mean count value\n",
    "    - store mean count value\n",
    "    - increase current 25A and run again \n",
    "        - 0, 15, 30, 45, 60, 75\n",
    "        \n",
    "Semikron power stack CT: HASS 100-S -> 100Arms sensor 0.00625V/A\n",
    "\n",
    "LV ADC board: 0.00125 V/count\n",
    "\n",
    "Target: ~0.00125/0.00625 A/count -> 0.2A/count\n",
    "\n",
    "\n",
    "### Results ###\n",
    "- Zero count offsets:\n",
    "    - Iu: 1991\n",
    "    - Iv: 1989\n",
    "    - Iw: 2005\n",
    "    - Idc: -32589"
   ]
  },
  {
   "cell_type": "code",
   "execution_count": null,
   "id": "1eee19d4",
   "metadata": {},
   "outputs": [],
   "source": [
    "0.00125/0.00625"
   ]
  },
  {
   "cell_type": "markdown",
   "id": "05855775",
   "metadata": {},
   "source": [
    "## Zero Offset Calibration ##"
   ]
  },
  {
   "cell_type": "code",
   "execution_count": 13,
   "id": "d0c51e3c",
   "metadata": {
    "scrolled": true
   },
   "outputs": [
    {
     "name": "stdout",
     "output_type": "stream",
     "text": [
      "\t> log info\n",
      "\t> log reg 0 LOG_Iu 537542744 2000 double\n",
      "['log reg 0 LOG_Iu 537542744 2000 double', 'SUCCESS']\n",
      "\t> log reg 1 LOG_Iv 537542752 2000 double\n",
      "['log reg 1 LOG_Iv 537542752 2000 double', 'SUCCESS']\n",
      "\t> log reg 2 LOG_Iw 537542760 2000 double\n",
      "['log reg 2 LOG_Iw 537542760 2000 double', 'SUCCESS']\n",
      "\t> log reg 3 LOG_Vdc 537542776 2000 double\n",
      "['log reg 3 LOG_Vdc 537542776 2000 double', 'SUCCESS']\n",
      "\t> log reg 4 LOG_Idc 537542768 2000 double\n",
      "['log reg 4 LOG_Idc 537542768 2000 double', 'SUCCESS']\n",
      "\t> log empty_all\n",
      "['log empty_all', 'SUCCESS']\n",
      "\t> gen_ctrl chn 4\n",
      "['gen_ctrl chn 4', 'SUCCESS']\n",
      "\t> gen_ctrl init\n",
      "['gen_ctrl init', 'SUCCESS']\n",
      "\t> log start\n",
      "['log start', 'SUCCESS']\n",
      "\t> log stop\n",
      "['log stop', 'SUCCESS']\n",
      "\t> gen_ctrl deinit\n",
      "['gen_ctrl deinit', 'SUCCESS']\n",
      "\t> log dump eth bin 0\n",
      "Dumping: LOG_Iu\n",
      "ERROR: timeout, could not find footer!\n",
      "failed loading LOG_Iu... retrying\n",
      "\n",
      "\t> log dump eth bin 0\n",
      "Dumping: LOG_Iu\n",
      "ERROR: timeout, could not find footer!\n",
      "failed loading LOG_Iu... retrying\n",
      "\n",
      "\t> log dump eth bin 0\n",
      "Dumping: LOG_Iu\n",
      "ERROR: timeout, could not find footer!\n",
      "failed loading LOG_Iu... retrying\n",
      "\n",
      "\t> log dump eth bin 0\n",
      "Dumping: LOG_Iu\n",
      "ERROR: timeout, could not find footer!\n"
     ]
    },
    {
     "ename": "Exception",
     "evalue": "Loading Data Failed",
     "output_type": "error",
     "traceback": [
      "\u001b[1;31m---------------------------------------------------------------------------\u001b[0m",
      "\u001b[1;31mException\u001b[0m                                 Traceback (most recent call last)",
      "\u001b[1;32m<ipython-input-13-af6467611d27>\u001b[0m in \u001b[0;36m<module>\u001b[1;34m\u001b[0m\n\u001b[0;32m     29\u001b[0m \u001b[1;33m\u001b[0m\u001b[0m\n\u001b[0;32m     30\u001b[0m \u001b[1;31m# Retrieve Data - return as Panda DataFrame obj\u001b[0m\u001b[1;33m\u001b[0m\u001b[1;33m\u001b[0m\u001b[1;33m\u001b[0m\u001b[0m\n\u001b[1;32m---> 31\u001b[1;33m data = logger.dump(\n\u001b[0m\u001b[0;32m     32\u001b[0m      \u001b[0mlog_vars\u001b[0m \u001b[1;33m=\u001b[0m \u001b[1;34m'Iu Iv Iw Idc'\u001b[0m\u001b[1;33m,\u001b[0m\u001b[1;33m\u001b[0m\u001b[1;33m\u001b[0m\u001b[0m\n\u001b[0;32m     33\u001b[0m      \u001b[0mfile\u001b[0m \u001b[1;33m=\u001b[0m \u001b[1;34m'calData\\currentCal_All_0A.csv'\u001b[0m\u001b[1;33m,\u001b[0m\u001b[1;33m\u001b[0m\u001b[1;33m\u001b[0m\u001b[0m\n",
      "\u001b[1;32m~\\Documents\\01-WISC\\Research\\Code\\AMDC_base\\AMDC-Firmware\\scripts\\AMDC_Logger.py\u001b[0m in \u001b[0;36mdump\u001b[1;34m(self, log_vars, file, comment, timestamp, timestamp_fmt, how, max_tries, print_output)\u001b[0m\n\u001b[0;32m    233\u001b[0m \u001b[1;33m\u001b[0m\u001b[0m\n\u001b[0;32m    234\u001b[0m                     \u001b[1;32mif\u001b[0m \u001b[0mtries\u001b[0m \u001b[1;33m>\u001b[0m \u001b[1;36m0\u001b[0m\u001b[1;33m:\u001b[0m\u001b[1;33m\u001b[0m\u001b[1;33m\u001b[0m\u001b[0m\n\u001b[1;32m--> 235\u001b[1;33m                         \u001b[1;32mraise\u001b[0m \u001b[0mException\u001b[0m\u001b[1;33m(\u001b[0m\u001b[1;34m'Loading Data Failed'\u001b[0m\u001b[1;33m)\u001b[0m\u001b[1;33m\u001b[0m\u001b[1;33m\u001b[0m\u001b[0m\n\u001b[0m\u001b[0;32m    236\u001b[0m \u001b[1;33m\u001b[0m\u001b[0m\n\u001b[0;32m    237\u001b[0m             \u001b[1;32mif\u001b[0m \u001b[0mfile\u001b[0m \u001b[1;33m!=\u001b[0m \u001b[1;32mNone\u001b[0m\u001b[1;33m:\u001b[0m\u001b[1;33m\u001b[0m\u001b[1;33m\u001b[0m\u001b[0m\n",
      "\u001b[1;31mException\u001b[0m: Loading Data Failed"
     ]
    }
   ],
   "source": [
    "# Setup Logger\n",
    "logger.sync()\n",
    "\n",
    "# Register Vars\n",
    "logger.register('Iu Iv Iw Vdc Idc', samples_per_sec = 2000, var_type = 'double')\n",
    "\n",
    "# Clear log\n",
    "logger.empty_all()\n",
    "\n",
    "# Define Command\n",
    "# chn 0 phase U active high\n",
    "# chn 1 phase V active high\n",
    "# chn 2 phase W active high\n",
    "# chn 3 All half rail\n",
    "# chn 4 All ground\n",
    "cmd_str = 'gen_ctrl chn 4'\n",
    "amdc.cmd(cmd_str)\n",
    "\n",
    "# Define Command\n",
    "cmd_str = 'gen_ctrl init'\n",
    "amdc.cmd(cmd_str)\n",
    "\n",
    "# Record zero curr data for 20 seconds\n",
    "logger.log(duration = 5)\n",
    "\n",
    "# Define Command\n",
    "cmd_str = 'gen_ctrl deinit'\n",
    "amdc.cmd(cmd_str)\n",
    "\n",
    "# Retrieve Data - return as Panda DataFrame obj\n",
    "data = logger.dump(\n",
    "     log_vars = 'Iu Iv Iw Idc', \n",
    "     file = 'calData\\currentCal_All_0A.csv',\n",
    "     comment = '')\n",
    "\n",
    "# Unregister Vars\n",
    "logger.unregister_all()\n",
    "data.describe().to_csv('calData\\zeroCountOffset_describe.csv')"
   ]
  },
  {
   "cell_type": "code",
   "execution_count": 5,
   "id": "f811b1d3",
   "metadata": {},
   "outputs": [
    {
     "data": {
      "text/plain": [
       "count    40040.000000\n",
       "mean        -0.161708\n",
       "std          0.134048\n",
       "min         -0.600000\n",
       "25%         -0.200000\n",
       "50%         -0.200000\n",
       "75%          0.000000\n",
       "max          0.400000\n",
       "Name: Iu, dtype: float64"
      ]
     },
     "execution_count": 5,
     "metadata": {},
     "output_type": "execute_result"
    }
   ],
   "source": [
    "data.Iu.describe()"
   ]
  },
  {
   "cell_type": "code",
   "execution_count": null,
   "id": "c72d11c5",
   "metadata": {},
   "outputs": [],
   "source": [
    "data.Iv.describe()"
   ]
  },
  {
   "cell_type": "code",
   "execution_count": null,
   "id": "fc1aace1",
   "metadata": {},
   "outputs": [],
   "source": [
    "data.Iw.describe()"
   ]
  },
  {
   "cell_type": "code",
   "execution_count": null,
   "id": "bb788a41",
   "metadata": {},
   "outputs": [],
   "source": [
    "data.Idc.describe()"
   ]
  },
  {
   "cell_type": "markdown",
   "id": "28eda673",
   "metadata": {},
   "source": [
    "## Probe & PSU Test ##"
   ]
  },
  {
   "cell_type": "code",
   "execution_count": 8,
   "id": "7b087369",
   "metadata": {
    "scrolled": true
   },
   "outputs": [
    {
     "name": "stdout",
     "output_type": "stream",
     "text": [
      "\t> gen_ctrl chn 0\n",
      "['gen_ctrl chn 0', 'SUCCESS']\n",
      "\t> gen_ctrl init\n",
      "['gen_ctrl init', 'SUCCESS']\n"
     ]
    },
    {
     "data": {
      "text/plain": [
       "['gen_ctrl init', 'SUCCESS']"
      ]
     },
     "execution_count": 8,
     "metadata": {},
     "output_type": "execute_result"
    }
   ],
   "source": [
    "# Define Command\n",
    "# chn 0 phase U active high\n",
    "# chn 1 phase V active high\n",
    "# chn 2 phase W active high\n",
    "# chn 3 All half rail\n",
    "# chn 4 All ground\n",
    "cmd_str = 'gen_ctrl chn 0'\n",
    "amdc.cmd(cmd_str)\n",
    "\n",
    "# Define Command\n",
    "cmd_str = 'gen_ctrl init'\n",
    "amdc.cmd(cmd_str)\n"
   ]
  },
  {
   "cell_type": "code",
   "execution_count": 9,
   "id": "7cf572ac",
   "metadata": {
    "scrolled": true
   },
   "outputs": [
    {
     "name": "stdout",
     "output_type": "stream",
     "text": [
      "\t> gen_ctrl deinit\n",
      "['gen_ctrl deinit', 'SUCCESS']\n"
     ]
    },
    {
     "data": {
      "text/plain": [
       "['gen_ctrl deinit', 'SUCCESS']"
      ]
     },
     "execution_count": 9,
     "metadata": {},
     "output_type": "execute_result"
    }
   ],
   "source": [
    "# Define Command\n",
    "cmd_str = 'gen_ctrl deinit'\n",
    "amdc.cmd(cmd_str)"
   ]
  },
  {
   "cell_type": "markdown",
   "id": "a8e8ea86",
   "metadata": {},
   "source": [
    "## Phase U Current Calibration ##\n",
    "\n",
    "- Measured Current: Mean Count\n",
    "    - 15.11 : -73.44\n",
    "    - 30.23 : -149.25\n",
    "    - 45.00 : -223.58\n",
    "    - 60.30 : -299.48\n",
    "    "
   ]
  },
  {
   "cell_type": "code",
   "execution_count": 29,
   "id": "0897f537",
   "metadata": {
    "scrolled": true
   },
   "outputs": [
    {
     "name": "stdout",
     "output_type": "stream",
     "text": [
      "\t> log info\n",
      "\t> log reg 0 LOG_Iu 537542744 2000 double\n",
      "['log reg 0 LOG_Iu 537542744 2000 double', 'SUCCESS']\n",
      "\t> log reg 1 LOG_Idc 537542768 2000 double\n",
      "['log reg 1 LOG_Idc 537542768 2000 double', 'SUCCESS']\n",
      "\t> log empty_all\n",
      "['log empty_all', 'SUCCESS']\n",
      "\t> gen_ctrl chn 0\n",
      "['gen_ctrl chn 0', 'SUCCESS']\n",
      "\t> gen_ctrl init\n",
      "['gen_ctrl init', 'SUCCESS']\n",
      "\t> log start\n",
      "['log start', 'SUCCESS']\n",
      "\t> log stop\n",
      "['log stop', 'SUCCESS']\n",
      "\t> gen_ctrl deinit\n",
      "['gen_ctrl deinit', 'SUCCESS']\n",
      "\t> log dump eth bin 0\n",
      "Dumping: LOG_Iu\n",
      "Dump took: 3.805  sec\n",
      "Dump rate: 10526.301  sps\n",
      "Num samples: 40057 \n",
      "\n",
      "\t> log dump eth bin 1\n",
      "Dumping: LOG_Idc\n",
      "Dump took: 3.955  sec\n",
      "Dump rate: 10129.155  sps\n",
      "Num samples: 40057 \n",
      "\n",
      "\t> log unreg 0\n",
      "['log unreg 0', 'SUCCESS']\n",
      "\t> log unreg 1\n",
      "['log unreg 1', 'SUCCESS']\n"
     ]
    }
   ],
   "source": [
    "# Setup Logger\n",
    "logger.sync()\n",
    "\n",
    "# Register Vars\n",
    "logger.register('Iu Idc', samples_per_sec = 2000, var_type = 'double')\n",
    "\n",
    "# Clear log\n",
    "logger.empty_all()\n",
    "\n",
    "# Define Command\n",
    "# chn 0 phase U active high\n",
    "# chn 1 phase V active high\n",
    "# chn 2 phase W active high\n",
    "# chn 3 All half rail\n",
    "# chn 4 All ground\n",
    "cmd_str = 'gen_ctrl chn 0'\n",
    "amdc.cmd(cmd_str)\n",
    "\n",
    "# Define Command\n",
    "cmd_str = 'gen_ctrl init'\n",
    "amdc.cmd(cmd_str)\n",
    "\n",
    "# Let system settle\n",
    "time.sleep(0.5)\n",
    "\n",
    "# Record zero curr data for 5 seconds\n",
    "logger.log(duration = 20)\n",
    "\n",
    "# Define Command\n",
    "cmd_str = 'gen_ctrl deinit'\n",
    "amdc.cmd(cmd_str)\n",
    "\n",
    "# Retrieve Data - return as Panda DataFrame obj\n",
    "data = logger.dump(\n",
    "     log_vars = 'Iu Idc', \n",
    "     file = 'calData\\currentCal_PhU_XXA.csv',\n",
    "     comment = '')\n",
    "\n",
    "# Unregister Vars\n",
    "logger.unregister_all()\n",
    "\n",
    "data.describe().to_csv('calData\\PhU_XXA_describe.csv')"
   ]
  },
  {
   "cell_type": "code",
   "execution_count": null,
   "id": "5161066b",
   "metadata": {},
   "outputs": [],
   "source": [
    "data.Iu.describe()"
   ]
  },
  {
   "cell_type": "markdown",
   "id": "5e3ce761",
   "metadata": {},
   "source": [
    "## Idc Current Calibration ##\n",
    "\n",
    "- Measured Current: Mean Count\n",
    "    - 15.11 : 6970.27 \n",
    "    - 30.23 : 14075.23 \n",
    "    - 45.00 : 21059.67\n",
    "    - 60.30 : 28183.78"
   ]
  },
  {
   "cell_type": "code",
   "execution_count": null,
   "id": "2b6866cf",
   "metadata": {},
   "outputs": [],
   "source": [
    "data.Idc.describe()"
   ]
  },
  {
   "cell_type": "markdown",
   "id": "2ee0d9e4",
   "metadata": {},
   "source": [
    "## Phase V Current Calibration ##\n",
    "\n",
    "- Measured Current: Mean Count\n",
    "    - 15.12 : -73.65\n",
    "    - 30.25 : -149.55\n",
    "    - 45.05 : -224.40\n",
    "    - 60.32 : -300.68"
   ]
  },
  {
   "cell_type": "code",
   "execution_count": null,
   "id": "37c0582d",
   "metadata": {
    "scrolled": true
   },
   "outputs": [],
   "source": [
    "# Setup Logger\n",
    "logger.sync()\n",
    "\n",
    "# Register Vars\n",
    "logger.register('Iv', samples_per_sec = 2000, var_type = 'double')\n",
    "\n",
    "# Clear log\n",
    "logger.empty_all()\n",
    "\n",
    "# Define Command\n",
    "# chn 0 phase U active high\n",
    "# chn 1 phase V active high\n",
    "# chn 2 phase W active high\n",
    "# chn 3 All half rail\n",
    "# chn 4 All ground\n",
    "cmd_str = 'gen_ctrl chn 1'\n",
    "amdc.cmd(cmd_str)\n",
    "\n",
    "# Define Command\n",
    "cmd_str = 'gen_ctrl init'\n",
    "amdc.cmd(cmd_str)\n",
    "\n",
    "# Let system settle\n",
    "time.sleep(0.5)\n",
    "\n",
    "# Record zero curr data for 5 seconds\n",
    "logger.log(duration = 20)\n",
    "\n",
    "# Define Command\n",
    "cmd_str = 'gen_ctrl deinit'\n",
    "amdc.cmd(cmd_str)\n",
    "\n",
    "# Retrieve Data - return as Panda DataFrame obj\n",
    "data = logger.dump(\n",
    "     log_vars = 'Iv', \n",
    "     file = 'calData\\currentCal_PhV_45A.csv',\n",
    "     comment = '')\n",
    "\n",
    "# Unregister Vars\n",
    "logger.unregister_all()\n",
    "\n",
    "data.describe().to_csv('calData\\PhV_45A_describe.csv')"
   ]
  },
  {
   "cell_type": "code",
   "execution_count": null,
   "id": "ca4b6105",
   "metadata": {},
   "outputs": [],
   "source": [
    "data.Iv.describe()"
   ]
  },
  {
   "cell_type": "markdown",
   "id": "dc1b5ddd",
   "metadata": {},
   "source": [
    "## Phase W Current Calibration ##\n",
    "\n",
    "- Measured Current: Mean Count\n",
    "    - 15.15 : -74.21\n",
    "    - 30.23 : -150.53\n",
    "    - 45.05 : -225.51\n",
    "    - 60.32 : -302.00"
   ]
  },
  {
   "cell_type": "code",
   "execution_count": null,
   "id": "56803edd",
   "metadata": {
    "scrolled": true
   },
   "outputs": [],
   "source": [
    "# Setup Logger\n",
    "logger.sync()\n",
    "\n",
    "# Register Vars\n",
    "logger.register('Iw', samples_per_sec = 2000, var_type = 'double')\n",
    "\n",
    "# Clear log\n",
    "logger.empty_all()\n",
    "\n",
    "# Define Command\n",
    "# chn 0 phase U active high\n",
    "# chn 1 phase V active high\n",
    "# chn 2 phase W active high\n",
    "# chn 3 All half rail\n",
    "# chn 4 All ground\n",
    "cmd_str = 'gen_ctrl chn 2'\n",
    "amdc.cmd(cmd_str)\n",
    "\n",
    "# Define Command\n",
    "cmd_str = 'gen_ctrl init'\n",
    "amdc.cmd(cmd_str)\n",
    "\n",
    "# Let system settle\n",
    "time.sleep(0.5)\n",
    "\n",
    "# Record zero curr data for 5 seconds\n",
    "logger.log(duration = 20)\n",
    "\n",
    "# Define Command\n",
    "cmd_str = 'gen_ctrl deinit'\n",
    "amdc.cmd(cmd_str)\n",
    "\n",
    "# Retrieve Data - return as Panda DataFrame obj\n",
    "data = logger.dump(\n",
    "     log_vars = 'Iw', \n",
    "     file = 'calData\\currentCal_PhW_45A.csv',\n",
    "     comment = '')\n",
    "\n",
    "# Unregister Vars\n",
    "logger.unregister_all()\n",
    "\n",
    "data.describe().to_csv('calData\\PhW_45A_describe.csv')"
   ]
  },
  {
   "cell_type": "code",
   "execution_count": null,
   "id": "7c86b6bf",
   "metadata": {},
   "outputs": [],
   "source": [
    "data.Iw.describe()"
   ]
  },
  {
   "cell_type": "markdown",
   "id": "a1f1bbc4",
   "metadata": {},
   "source": [
    "# View Results ###"
   ]
  },
  {
   "cell_type": "code",
   "execution_count": null,
   "id": "a9356c73",
   "metadata": {},
   "outputs": [],
   "source": [
    "data[['Iu', 'Iv', 'Iw']].plot()"
   ]
  },
  {
   "cell_type": "code",
   "execution_count": null,
   "id": "4ed0b124",
   "metadata": {},
   "outputs": [],
   "source": [
    "data.Iu.plot()"
   ]
  },
  {
   "cell_type": "code",
   "execution_count": null,
   "id": "094b495f",
   "metadata": {
    "scrolled": true
   },
   "outputs": [],
   "source": [
    "data[['Idc']].plot()"
   ]
  },
  {
   "cell_type": "code",
   "execution_count": 30,
   "id": "9a3c7173",
   "metadata": {},
   "outputs": [
    {
     "data": {
      "text/plain": [
       "<AxesSubplot:xlabel='t'>"
      ]
     },
     "execution_count": 30,
     "metadata": {},
     "output_type": "execute_result"
    },
    {
     "data": {
      "image/png": "[encoded data removed]",
      "text/plain": [
       "<Figure size 864x576 with 1 Axes>"
      ]
     },
     "metadata": {
      "needs_background": "light"
     },
     "output_type": "display_data"
    }
   ],
   "source": [
    "data[['Iu', 'Idc']].plot(figsize=(12,8), grid=True)"
   ]
  },
  {
   "cell_type": "code",
   "execution_count": null,
   "id": "90c3642f",
   "metadata": {},
   "outputs": [],
   "source": [
    "data[['Iv']].plot()"
   ]
  },
  {
   "cell_type": "code",
   "execution_count": null,
   "id": "d91314dc",
   "metadata": {},
   "outputs": [],
   "source": [
    "data.Iw.plot()"
   ]
  },
  {
   "cell_type": "markdown",
   "id": "c4c66d60",
   "metadata": {},
   "source": [
    "## PLOT EM ALL. V Loaded ##"
   ]
  },
  {
   "cell_type": "code",
   "execution_count": null,
   "id": "b32ef4a0",
   "metadata": {
    "scrolled": true
   },
   "outputs": [],
   "source": [
    "# Setup Logger\n",
    "logger.sync()\n",
    "\n",
    "# Register Vars\n",
    "logger.register('Iu Iv Iw', samples_per_sec = 2000, var_type = 'double')\n",
    "\n",
    "# Clear log\n",
    "logger.empty_all()\n",
    "\n",
    "# Define Command\n",
    "# chn 0 phase U active high\n",
    "# chn 1 phase V active high\n",
    "# chn 2 phase W active high\n",
    "# chn 3 All half rail\n",
    "# chn 4 All ground\n",
    "cmd_str = 'gen_ctrl chn 1'\n",
    "amdc.cmd(cmd_str)\n",
    "\n",
    "# Define Command\n",
    "cmd_str = 'gen_ctrl init'\n",
    "amdc.cmd(cmd_str)\n",
    "\n",
    "# Let system settle\n",
    "time.sleep(0.5)\n",
    "\n",
    "# Record zero curr data for 5 seconds\n",
    "logger.log(duration = 20)\n",
    "\n",
    "# Define Command\n",
    "cmd_str = 'gen_ctrl deinit'\n",
    "amdc.cmd(cmd_str)\n",
    "\n",
    "# Retrieve Data - return as Panda DataFrame obj\n",
    "data = logger.dump(\n",
    "     log_vars = 'Iu Iv Iw', \n",
    "     file = 'calData\\currentCal_PhV_15A.csv',\n",
    "     comment = '')\n",
    "\n",
    "# Unregister Vars\n",
    "logger.unregister_all()\n",
    "\n",
    "data.describe().to_csv('calData\\PhV_15A_describe.csv')"
   ]
  },
  {
   "cell_type": "markdown",
   "id": "e98c954a",
   "metadata": {},
   "source": [
    "## Shutdown and Clear Logs"
   ]
  },
  {
   "cell_type": "code",
   "execution_count": 31,
   "id": "aea2f150",
   "metadata": {
    "scrolled": true
   },
   "outputs": [
    {
     "name": "stdout",
     "output_type": "stream",
     "text": [
      "\t> gen_ctrl deinit\n",
      "['gen_ctrl deinit', 'FAILURE']\n"
     ]
    },
    {
     "data": {
      "text/plain": [
       "['gen_ctrl deinit', 'FAILURE']"
      ]
     },
     "execution_count": 31,
     "metadata": {},
     "output_type": "execute_result"
    }
   ],
   "source": [
    "# Define Command\n",
    "cmd_str = 'gen_ctrl deinit'\n",
    "# Send command\n",
    "amdc.cmd(cmd_str)"
   ]
  },
  {
   "cell_type": "code",
   "execution_count": 14,
   "id": "d9337bc8",
   "metadata": {
    "scrolled": true
   },
   "outputs": [
    {
     "name": "stdout",
     "output_type": "stream",
     "text": [
      "\t> log unreg 0\n"
     ]
    },
    {
     "ename": "Exception",
     "evalue": "ERROR: timeout, could not find command response!",
     "output_type": "error",
     "traceback": [
      "\u001b[1;31m---------------------------------------------------------------------------\u001b[0m",
      "\u001b[1;31mException\u001b[0m                                 Traceback (most recent call last)",
      "\u001b[1;32m<ipython-input-14-f690c06dd96f>\u001b[0m in \u001b[0;36m<module>\u001b[1;34m\u001b[0m\n\u001b[0;32m      1\u001b[0m \u001b[1;31m# Unregister Vars\u001b[0m\u001b[1;33m\u001b[0m\u001b[1;33m\u001b[0m\u001b[1;33m\u001b[0m\u001b[0m\n\u001b[1;32m----> 2\u001b[1;33m \u001b[0mlogger\u001b[0m\u001b[1;33m.\u001b[0m\u001b[0munregister_all\u001b[0m\u001b[1;33m(\u001b[0m\u001b[1;33m)\u001b[0m\u001b[1;33m\u001b[0m\u001b[1;33m\u001b[0m\u001b[0m\n\u001b[0m",
      "\u001b[1;32m~\\Documents\\01-WISC\\Research\\Code\\AMDC_base\\AMDC-Firmware\\scripts\\AMDC_Logger.py\u001b[0m in \u001b[0;36munregister_all\u001b[1;34m(self)\u001b[0m\n\u001b[0;32m    117\u001b[0m \u001b[1;33m\u001b[0m\u001b[0m\n\u001b[0;32m    118\u001b[0m         \u001b[1;32mfor\u001b[0m \u001b[0mvar\u001b[0m \u001b[1;32min\u001b[0m \u001b[0mvariables\u001b[0m\u001b[1;33m:\u001b[0m\u001b[1;33m\u001b[0m\u001b[1;33m\u001b[0m\u001b[0m\n\u001b[1;32m--> 119\u001b[1;33m             \u001b[0mself\u001b[0m\u001b[1;33m.\u001b[0m\u001b[0munregister\u001b[0m\u001b[1;33m(\u001b[0m\u001b[0mvar\u001b[0m\u001b[1;33m)\u001b[0m\u001b[1;33m\u001b[0m\u001b[1;33m\u001b[0m\u001b[0m\n\u001b[0m\u001b[0;32m    120\u001b[0m \u001b[1;33m\u001b[0m\u001b[0m\n\u001b[0;32m    121\u001b[0m     \u001b[1;32mdef\u001b[0m \u001b[0mempty\u001b[0m\u001b[1;33m(\u001b[0m\u001b[0mself\u001b[0m\u001b[1;33m,\u001b[0m \u001b[0mlog_vars\u001b[0m\u001b[1;33m)\u001b[0m\u001b[1;33m:\u001b[0m\u001b[1;33m\u001b[0m\u001b[1;33m\u001b[0m\u001b[0m\n",
      "\u001b[1;32m~\\Documents\\01-WISC\\Research\\Code\\AMDC_base\\AMDC-Firmware\\scripts\\AMDC_Logger.py\u001b[0m in \u001b[0;36munregister\u001b[1;34m(self, log_vars, send_cmd)\u001b[0m\n\u001b[0;32m    108\u001b[0m                 \u001b[0mprint\u001b[0m\u001b[1;33m(\u001b[0m\u001b[1;34m'ERROR: Invalid variable name'\u001b[0m\u001b[1;33m)\u001b[0m\u001b[1;33m\u001b[0m\u001b[1;33m\u001b[0m\u001b[0m\n\u001b[0;32m    109\u001b[0m             \u001b[1;32melse\u001b[0m\u001b[1;33m:\u001b[0m\u001b[1;33m\u001b[0m\u001b[1;33m\u001b[0m\u001b[0m\n\u001b[1;32m--> 110\u001b[1;33m                 \u001b[0mself\u001b[0m\u001b[1;33m.\u001b[0m\u001b[0mamdc\u001b[0m\u001b[1;33m.\u001b[0m\u001b[0mcmd\u001b[0m\u001b[1;33m(\u001b[0m\u001b[1;34mf'log unreg {LV.index}'\u001b[0m\u001b[1;33m)\u001b[0m\u001b[1;33m\u001b[0m\u001b[1;33m\u001b[0m\u001b[0m\n\u001b[0m\u001b[0;32m    111\u001b[0m \u001b[1;33m\u001b[0m\u001b[0m\n\u001b[0;32m    112\u001b[0m     \u001b[1;32mdef\u001b[0m \u001b[0munregister_all\u001b[0m\u001b[1;33m(\u001b[0m\u001b[0mself\u001b[0m\u001b[1;33m)\u001b[0m\u001b[1;33m:\u001b[0m\u001b[1;33m\u001b[0m\u001b[1;33m\u001b[0m\u001b[0m\n",
      "\u001b[1;32m~\\Documents\\01-WISC\\Research\\Code\\AMDC_base\\AMDC-Firmware\\scripts\\AMDC.py\u001b[0m in \u001b[0;36mcmd\u001b[1;34m(self, cmd_str, timeout_sec)\u001b[0m\n\u001b[0;32m    216\u001b[0m                 \u001b[1;31m# Break loop if timeout\u001b[0m\u001b[1;33m\u001b[0m\u001b[1;33m\u001b[0m\u001b[1;33m\u001b[0m\u001b[0m\n\u001b[0;32m    217\u001b[0m                 \u001b[1;32mif\u001b[0m \u001b[0mtime\u001b[0m\u001b[1;33m.\u001b[0m\u001b[0mtime\u001b[0m\u001b[1;33m(\u001b[0m\u001b[1;33m)\u001b[0m \u001b[1;33m>=\u001b[0m \u001b[0mstart_time\u001b[0m \u001b[1;33m+\u001b[0m \u001b[0mtimeout_sec\u001b[0m\u001b[1;33m:\u001b[0m\u001b[1;33m\u001b[0m\u001b[1;33m\u001b[0m\u001b[0m\n\u001b[1;32m--> 218\u001b[1;33m                     \u001b[1;32mraise\u001b[0m \u001b[0mException\u001b[0m\u001b[1;33m(\u001b[0m\u001b[1;34m\"ERROR: timeout, could not find command response!\"\u001b[0m\u001b[1;33m)\u001b[0m\u001b[1;33m\u001b[0m\u001b[1;33m\u001b[0m\u001b[0m\n\u001b[0m\u001b[0;32m    219\u001b[0m \u001b[1;33m\u001b[0m\u001b[0m\n\u001b[0;32m    220\u001b[0m             \u001b[1;32mif\u001b[0m \u001b[0mself\u001b[0m\u001b[1;33m.\u001b[0m\u001b[0mcomm_method\u001b[0m \u001b[1;32mis\u001b[0m \u001b[1;34m'eth'\u001b[0m\u001b[1;33m:\u001b[0m\u001b[1;33m\u001b[0m\u001b[1;33m\u001b[0m\u001b[0m\n",
      "\u001b[1;31mException\u001b[0m: ERROR: timeout, could not find command response!"
     ]
    }
   ],
   "source": [
    "# Unregister Vars\n",
    "logger.unregister_all()"
   ]
  }
 ],
 "metadata": {
  "kernelspec": {
   "display_name": "Python 3",
   "language": "python",
   "name": "python3"
  },
  "language_info": {
   "codemirror_mode": {
    "name": "ipython",
    "version": 3
   },
   "file_extension": ".py",
   "mimetype": "text/x-python",
   "name": "python",
   "nbconvert_exporter": "python",
   "pygments_lexer": "ipython3",
   "version": "3.9.4"
  }
 },
 "nbformat": 4,
 "nbformat_minor": 5
}
