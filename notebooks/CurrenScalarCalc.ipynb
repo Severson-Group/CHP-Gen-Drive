{
 "cells": [
  {
   "cell_type": "markdown",
   "id": "1a582577",
   "metadata": {},
   "source": [
    "### Idc Current Scalar ###"
   ]
  },
  {
   "cell_type": "code",
   "execution_count": 4,
   "id": "6fbd55c4",
   "metadata": {},
   "outputs": [
    {
     "data": {
      "text/plain": [
       "0.002167778292662981"
      ]
     },
     "execution_count": 4,
     "metadata": {},
     "output_type": "execute_result"
    }
   ],
   "source": [
    "15.11/6970.27"
   ]
  },
  {
   "cell_type": "code",
   "execution_count": 5,
   "id": "486c271c",
   "metadata": {},
   "outputs": [
    {
     "data": {
      "text/plain": [
       "0.0021477446549718906"
      ]
     },
     "execution_count": 5,
     "metadata": {},
     "output_type": "execute_result"
    }
   ],
   "source": [
    "30.23 / 14075.23"
   ]
  },
  {
   "cell_type": "code",
   "execution_count": 6,
   "id": "fad60868",
   "metadata": {},
   "outputs": [
    {
     "data": {
      "text/plain": [
       "0.0021367856191478784"
      ]
     },
     "execution_count": 6,
     "metadata": {},
     "output_type": "execute_result"
    }
   ],
   "source": [
    "45.00 / 21059.67"
   ]
  },
  {
   "cell_type": "code",
   "execution_count": 7,
   "id": "014f14fa",
   "metadata": {},
   "outputs": [
    {
     "data": {
      "text/plain": [
       "0.0021395284805657724"
      ]
     },
     "execution_count": 7,
     "metadata": {},
     "output_type": "execute_result"
    }
   ],
   "source": [
    "60.30 / 28183.78"
   ]
  },
  {
   "cell_type": "code",
   "execution_count": 22,
   "id": "16b77337",
   "metadata": {},
   "outputs": [
    {
     "data": {
      "text/plain": [
       "0.0021479592618371306"
      ]
     },
     "execution_count": 22,
     "metadata": {},
     "output_type": "execute_result"
    }
   ],
   "source": [
    "((15.11/6970.27) + (30.23 / 14075.23) + (45.00 / 21059.67) + (60.30 / 28183.78))/4.0"
   ]
  },
  {
   "cell_type": "markdown",
   "id": "a37f4a0b",
   "metadata": {},
   "source": [
    "### Phase U Current Scalar ###"
   ]
  },
  {
   "cell_type": "code",
   "execution_count": 21,
   "id": "b687de60",
   "metadata": {},
   "outputs": [
    {
     "data": {
      "text/plain": [
       "-0.20574618736383443"
      ]
     },
     "execution_count": 21,
     "metadata": {},
     "output_type": "execute_result"
    }
   ],
   "source": [
    "15.11 / -73.44"
   ]
  },
  {
   "cell_type": "code",
   "execution_count": 20,
   "id": "65c8ca3c",
   "metadata": {},
   "outputs": [
    {
     "data": {
      "text/plain": [
       "-0.20254606365159128"
      ]
     },
     "execution_count": 20,
     "metadata": {},
     "output_type": "execute_result"
    }
   ],
   "source": [
    "30.23 / -149.25"
   ]
  },
  {
   "cell_type": "code",
   "execution_count": 19,
   "id": "0d1ef2b5",
   "metadata": {},
   "outputs": [
    {
     "data": {
      "text/plain": [
       "-0.2012702388406834"
      ]
     },
     "execution_count": 19,
     "metadata": {},
     "output_type": "execute_result"
    }
   ],
   "source": [
    "45.00 / -223.58"
   ]
  },
  {
   "cell_type": "code",
   "execution_count": 18,
   "id": "6dc1bb07",
   "metadata": {},
   "outputs": [
    {
     "data": {
      "text/plain": [
       "-0.20134900494189928"
      ]
     },
     "execution_count": 18,
     "metadata": {},
     "output_type": "execute_result"
    }
   ],
   "source": [
    "60.30 / -299.48"
   ]
  },
  {
   "cell_type": "code",
   "execution_count": null,
   "id": "ff4de324",
   "metadata": {},
   "outputs": [],
   "source": []
  },
  {
   "cell_type": "markdown",
   "id": "4515f643",
   "metadata": {},
   "source": [
    "### Phase V Current Scalar ###"
   ]
  },
  {
   "cell_type": "code",
   "execution_count": 14,
   "id": "aab38f0b",
   "metadata": {},
   "outputs": [
    {
     "data": {
      "text/plain": [
       "-0.20529531568228104"
      ]
     },
     "execution_count": 14,
     "metadata": {},
     "output_type": "execute_result"
    }
   ],
   "source": [
    "15.12 / -73.65"
   ]
  },
  {
   "cell_type": "code",
   "execution_count": 15,
   "id": "d21b7d17",
   "metadata": {},
   "outputs": [
    {
     "data": {
      "text/plain": [
       "-0.2022734871280508"
      ]
     },
     "execution_count": 15,
     "metadata": {},
     "output_type": "execute_result"
    }
   ],
   "source": [
    "30.25 / -149.55"
   ]
  },
  {
   "cell_type": "code",
   "execution_count": 16,
   "id": "e8a2b78f",
   "metadata": {},
   "outputs": [
    {
     "data": {
      "text/plain": [
       "-0.20075757575757575"
      ]
     },
     "execution_count": 16,
     "metadata": {},
     "output_type": "execute_result"
    }
   ],
   "source": [
    "45.05 / -224.40"
   ]
  },
  {
   "cell_type": "code",
   "execution_count": 17,
   "id": "dc5afde0",
   "metadata": {
    "scrolled": true
   },
   "outputs": [
    {
     "data": {
      "text/plain": [
       "-0.20061194625515497"
      ]
     },
     "execution_count": 17,
     "metadata": {},
     "output_type": "execute_result"
    }
   ],
   "source": [
    "60.32 / -300.68"
   ]
  },
  {
   "cell_type": "code",
   "execution_count": null,
   "id": "45148b39",
   "metadata": {},
   "outputs": [],
   "source": []
  },
  {
   "cell_type": "markdown",
   "id": "6fde833b",
   "metadata": {},
   "source": [
    "### Phase W current Scalar ###"
   ]
  },
  {
   "cell_type": "code",
   "execution_count": 9,
   "id": "52204bfb",
   "metadata": {},
   "outputs": [
    {
     "data": {
      "text/plain": [
       "-0.20415038404527694"
      ]
     },
     "execution_count": 9,
     "metadata": {},
     "output_type": "execute_result"
    }
   ],
   "source": [
    "15.15 / -74.21"
   ]
  },
  {
   "cell_type": "code",
   "execution_count": 13,
   "id": "5ac0d4a3",
   "metadata": {},
   "outputs": [
    {
     "data": {
      "text/plain": [
       "-0.20082375606191458"
      ]
     },
     "execution_count": 13,
     "metadata": {},
     "output_type": "execute_result"
    }
   ],
   "source": [
    "30.23 / -150.53"
   ]
  },
  {
   "cell_type": "code",
   "execution_count": 12,
   "id": "172f6ac1",
   "metadata": {},
   "outputs": [
    {
     "data": {
      "text/plain": [
       "-0.19976941155602856"
      ]
     },
     "execution_count": 12,
     "metadata": {},
     "output_type": "execute_result"
    }
   ],
   "source": [
    "45.05 / -225.51"
   ]
  },
  {
   "cell_type": "code",
   "execution_count": 11,
   "id": "2c015f85",
   "metadata": {},
   "outputs": [
    {
     "data": {
      "text/plain": [
       "-0.19973509933774836"
      ]
     },
     "execution_count": 11,
     "metadata": {},
     "output_type": "execute_result"
    }
   ],
   "source": [
    "60.32 / -302.00"
   ]
  },
  {
   "cell_type": "code",
   "execution_count": 23,
   "id": "8383a99a",
   "metadata": {},
   "outputs": [
    {
     "data": {
      "text/plain": [
       "0.5235987755982988"
      ]
     },
     "execution_count": 23,
     "metadata": {},
     "output_type": "execute_result"
    }
   ],
   "source": [
    "import math\n",
    "math.pi/6"
   ]
  }
 ],
 "metadata": {
  "kernelspec": {
   "display_name": "Python 3",
   "language": "python",
   "name": "python3"
  },
  "language_info": {
   "codemirror_mode": {
    "name": "ipython",
    "version": 3
   },
   "file_extension": ".py",
   "mimetype": "text/x-python",
   "name": "python",
   "nbconvert_exporter": "python",
   "pygments_lexer": "ipython3",
   "version": "3.9.4"
  }
 },
 "nbformat": 4,
 "nbformat_minor": 5
}
