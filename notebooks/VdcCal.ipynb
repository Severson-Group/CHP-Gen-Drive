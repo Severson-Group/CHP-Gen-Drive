{
 "cells": [
  {
   "cell_type": "markdown",
   "id": "9b90741c",
   "metadata": {},
   "source": [
    "# DC Link Voltage Calibration Routine #  \n",
    "- SJ 7/17/22\n",
    "\n",
    "Monitor DC Link voltage externally and compare against ADC counts to create scalar or curve fit"
   ]
  },
  {
   "cell_type": "markdown",
   "id": "083c238e",
   "metadata": {},
   "source": [
    "## Setup System & Connect via Ethernet ##"
   ]
  },
  {
   "cell_type": "code",
   "execution_count": null,
   "id": "1a62aabd",
   "metadata": {
    "scrolled": true
   },
   "outputs": [],
   "source": [
    "import os\n",
    "import pathlib as pl\n",
    "import sys\n",
    "import time\n",
    "import pandas as pd\n",
    "import matplotlib.pyplot as plt\n",
    "\n",
    "repo_dir = pl.Path(os.path.dirname(os.getcwd()))\n",
    "sys.path.append(str(repo_dir / 'AMDC-Firmware' / 'scripts'))\n",
    "\n",
    "from AMDC import AMDC\n",
    "from AMDC_Logger import AMDC_Logger, find_mapfile\n",
    "from AMDC_LivePlot import AMDC_LivePlot\n",
    "\n",
    "amdc = AMDC()\n",
    "\n",
    "# After creating the amdc object...\n",
    "\n",
    "# Set comm defaults for Ethernet\n",
    "amdc.setup_comm_defaults('eth')\n",
    "\n",
    "# Init ethernet \n",
    "amdc.eth_init()\n",
    "\n",
    "# Set up the default ASCII command socket\n",
    "s0, s0_id = amdc.eth_new_socket('ascii_cmd')\n",
    "amdc.eth_set_default_ascii_cmd_socket(s0)\n",
    "\n",
    "# Cretae AMDC Logger Object\n",
    "mapfile_path = find_mapfile(repo_dir)\n",
    "logger = AMDC_Logger(AMDC = amdc, mapfile = mapfile_path)"
   ]
  },
  {
   "cell_type": "markdown",
   "id": "ba16699a",
   "metadata": {},
   "source": [
    "### Procedure ###\n",
    "\n",
    "- ADC measurement already has 0.00125 V/count scalar applied in code\n",
    "- measure Vdc at various voltages\n",
    "    - 0, 50, 100, 150, 200, 250 - Ran out of PSU\n",
    "\n",
    "LV ADC board: 0.00125 V/count\n"
   ]
  },
  {
   "cell_type": "markdown",
   "id": "05855775",
   "metadata": {},
   "source": [
    "## Vdc Link Measure ##\n",
    "\n",
    "- Measured Voltage : Counts\n",
    "    -   0.0 : -0.263\n",
    "    -  50.0 : 120.00\n",
    "        - 0.41666666\n",
    "    - 100.0 : 240.07\n",
    "        - 0.41654517\n",
    "    - 150.0 : 360.55\n",
    "        - 0.41603106\n",
    "    - 199.9 : 480.81\n",
    "        - 0.41575674\n",
    "    - 249.9 : 600.92\n",
    "        - 0.41586234"
   ]
  },
  {
   "cell_type": "code",
   "execution_count": null,
   "id": "6606d5cb",
   "metadata": {},
   "outputs": [],
   "source": [
    "# Setup Logger\n",
    "logger.sync()\n",
    "\n",
    "# Register Vars\n",
    "logger.register('Vdc', samples_per_sec = 2000, var_type = 'double')\n",
    "\n",
    "# Clear log\n",
    "logger.empty_all()\n",
    "\n",
    "# Define Command\n",
    "# chn 0 phase U active high\n",
    "# chn 1 phase V active high\n",
    "# chn 2 phase W active high\n",
    "# chn 3 All half rail\n",
    "# chn 4 All ground\n",
    "cmd_str = 'gen_ctrl chn 4'\n",
    "amdc.cmd(cmd_str)\n",
    "\n",
    "# Define Command\n",
    "cmd_str = 'gen_ctrl init'\n",
    "amdc.cmd(cmd_str)\n",
    "\n",
    "# Record zero curr data for 5 seconds\n",
    "logger.log(duration = 20)\n",
    "\n",
    "# Define Command\n",
    "cmd_str = 'gen_ctrl deinit'\n",
    "amdc.cmd(cmd_str)\n",
    "\n",
    "# Retrieve Data - return as Panda DataFrame obj\n",
    "data = logger.dump(\n",
    "    log_vars = 'Vdc',\n",
    "    file = 'calData/voltageCalibration_250v.csv',\n",
    "    comment = ' ')\n",
    "\n",
    "# Unregister Vars\n",
    "logger.unregister_all()\n",
    "data.describe().to_csv('calData/voltageCal_250v_describe.csv')"
   ]
  },
  {
   "cell_type": "code",
   "execution_count": null,
   "id": "45b578ca",
   "metadata": {},
   "outputs": [],
   "source": [
    "data.Vdc.describe()"
   ]
  },
  {
   "cell_type": "code",
   "execution_count": null,
   "id": "3150d671",
   "metadata": {},
   "outputs": [],
   "source": [
    "data.Vdc.plot()"
   ]
  },
  {
   "cell_type": "markdown",
   "id": "e98c954a",
   "metadata": {},
   "source": [
    "## Shutdown and Clear Logs"
   ]
  },
  {
   "cell_type": "code",
   "execution_count": null,
   "id": "aea2f150",
   "metadata": {
    "scrolled": true
   },
   "outputs": [],
   "source": [
    "# Define Command\n",
    "cmd_str = 'gen_ctrl deinit'\n",
    "# Send command\n",
    "amdc.cmd(cmd_str)"
   ]
  },
  {
   "cell_type": "code",
   "execution_count": null,
   "id": "d9337bc8",
   "metadata": {
    "scrolled": true
   },
   "outputs": [],
   "source": [
    "# Unregister Vars\n",
    "logger.unregister_all()"
   ]
  }
 ],
 "metadata": {
  "kernelspec": {
   "display_name": "Python 3",
   "language": "python",
   "name": "python3"
  },
  "language_info": {
   "codemirror_mode": {
    "name": "ipython",
    "version": 3
   },
   "file_extension": ".py",
   "mimetype": "text/x-python",
   "name": "python",
   "nbconvert_exporter": "python",
   "pygments_lexer": "ipython3",
   "version": "3.9.4"
  }
 },
 "nbformat": 4,
 "nbformat_minor": 5
}
