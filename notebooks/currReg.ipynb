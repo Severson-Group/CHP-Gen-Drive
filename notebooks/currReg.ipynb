{
 "cells": [
  {
   "cell_type": "code",
   "execution_count": 7,
   "id": "4ee9efdd-80ef-4970-b9fd-073164ae5444",
   "metadata": {
    "tags": []
   },
   "outputs": [],
   "source": [
    "import sys\n",
    "import pathlib as pl\n",
    "import time\n",
    "import numpy as np\n",
    "repo_dir  =r'C:\\Users\\MasterGnome\\Documents\\01-WISC\\Research\\Code\\AMDC_base'\n",
    "repo_dir  = pl.Path(repo_dir )\n",
    "scripts_folder = repo_dir  / 'AMDC-Firmware' / 'scripts'  \n",
    "sys.path.append(str(scripts_folder))\n",
    "\n",
    "from AMDC import AMDC\n",
    "from AMDC_Logger import AMDC_Logger, find_mapfile"
   ]
  },
  {
   "cell_type": "code",
   "execution_count": 8,
   "id": "d999fdb7-55a1-4905-af18-c4db8cd2b533",
   "metadata": {
    "tags": []
   },
   "outputs": [
    {
     "ename": "TypeError",
     "evalue": "__init__() got an unexpected keyword argument 'port'",
     "output_type": "error",
     "traceback": [
      "\u001b[1;31m---------------------------------------------------------------------------\u001b[0m",
      "\u001b[1;31mTypeError\u001b[0m                                 Traceback (most recent call last)",
      "\u001b[1;32m<ipython-input-8-34fc137cb2e0>\u001b[0m in \u001b[0;36m<module>\u001b[1;34m\u001b[0m\n\u001b[1;32m----> 1\u001b[1;33m \u001b[0mamdc\u001b[0m \u001b[1;33m=\u001b[0m \u001b[0mAMDC\u001b[0m\u001b[1;33m(\u001b[0m\u001b[0mport\u001b[0m \u001b[1;33m=\u001b[0m \u001b[1;34m'COM6'\u001b[0m\u001b[1;33m)\u001b[0m\u001b[1;33m\u001b[0m\u001b[1;33m\u001b[0m\u001b[0m\n\u001b[0m\u001b[0;32m      2\u001b[0m \u001b[0mamdc\u001b[0m\u001b[1;33m.\u001b[0m\u001b[0mconnect\u001b[0m\u001b[1;33m(\u001b[0m\u001b[1;33m)\u001b[0m \u001b[1;31m#opens up serial communication\u001b[0m\u001b[1;33m\u001b[0m\u001b[1;33m\u001b[0m\u001b[0m\n\u001b[0;32m      3\u001b[0m \u001b[1;31m#amdc.cmd(\"inv vdc t1 {}\".format(Vdc))\u001b[0m\u001b[1;33m\u001b[0m\u001b[1;33m\u001b[0m\u001b[1;33m\u001b[0m\u001b[0m\n\u001b[0;32m      4\u001b[0m \u001b[0mamdc\u001b[0m\u001b[1;33m.\u001b[0m\u001b[0mcmd\u001b[0m\u001b[1;33m(\u001b[0m\u001b[1;34m\"currReg enc\"\u001b[0m\u001b[1;33m)\u001b[0m\u001b[1;33m\u001b[0m\u001b[1;33m\u001b[0m\u001b[0m\n",
      "\u001b[1;31mTypeError\u001b[0m: __init__() got an unexpected keyword argument 'port'"
     ]
    }
   ],
   "source": [
    "amdc = AMDC(port = 'COM6')  \n",
    "amdc.connect() #opens up serial communication\n",
    "#amdc.cmd(\"inv vdc t1 {}\".format(Vdc))\n",
    "amdc.cmd(\"currReg enc\")"
   ]
  },
  {
   "cell_type": "code",
   "execution_count": 9,
   "id": "93760097-96f2-4617-95ab-43515352ad46",
   "metadata": {
    "tags": []
   },
   "outputs": [
    {
     "ename": "NameError",
     "evalue": "name 'amdc' is not defined",
     "output_type": "error",
     "traceback": [
      "\u001b[1;31m---------------------------------------------------------------------------\u001b[0m",
      "\u001b[1;31mNameError\u001b[0m                                 Traceback (most recent call last)",
      "\u001b[1;32m<ipython-input-9-11198e011269>\u001b[0m in \u001b[0;36m<module>\u001b[1;34m\u001b[0m\n\u001b[0;32m      1\u001b[0m \u001b[1;31m# Cretae AMDC Logger Object\u001b[0m\u001b[1;33m\u001b[0m\u001b[1;33m\u001b[0m\u001b[1;33m\u001b[0m\u001b[0m\n\u001b[0;32m      2\u001b[0m \u001b[0mmapfile_path\u001b[0m \u001b[1;33m=\u001b[0m \u001b[0mfind_mapfile\u001b[0m\u001b[1;33m(\u001b[0m\u001b[0mrepo_dir\u001b[0m\u001b[1;33m)\u001b[0m\u001b[1;33m\u001b[0m\u001b[1;33m\u001b[0m\u001b[0m\n\u001b[1;32m----> 3\u001b[1;33m \u001b[0mlogger\u001b[0m \u001b[1;33m=\u001b[0m \u001b[0mAMDC_Logger\u001b[0m\u001b[1;33m(\u001b[0m\u001b[0mAMDC\u001b[0m \u001b[1;33m=\u001b[0m \u001b[0mamdc\u001b[0m\u001b[1;33m,\u001b[0m \u001b[0mmapfile\u001b[0m \u001b[1;33m=\u001b[0m \u001b[0mmapfile_path\u001b[0m\u001b[1;33m)\u001b[0m\u001b[1;33m\u001b[0m\u001b[1;33m\u001b[0m\u001b[0m\n\u001b[0m\u001b[0;32m      4\u001b[0m \u001b[1;33m\u001b[0m\u001b[0m\n\u001b[0;32m      5\u001b[0m \u001b[1;31m# SET THIS TO PATH OF YOUR USER APPLICATION CODE\u001b[0m\u001b[1;33m\u001b[0m\u001b[1;33m\u001b[0m\u001b[1;33m\u001b[0m\u001b[0m\n",
      "\u001b[1;31mNameError\u001b[0m: name 'amdc' is not defined"
     ]
    }
   ],
   "source": [
    "# Cretae AMDC Logger Object\n",
    "mapfile_path = find_mapfile(repo_dir)\n",
    "logger = AMDC_Logger(AMDC = amdc, mapfile = mapfile_path)\n",
    "\n",
    "# SET THIS TO PATH OF YOUR USER APPLICATION CODE\n",
    "user_app_c_code_path = r'C:\\Users\\MasterGnome\\Documents\\01-WISC\\Research\\Code\\AMDC_base\\AMDC-Private\\usr\\currReg'                          "
   ]
  },
  {
   "cell_type": "code",
   "execution_count": 4,
   "id": "ab7fe008",
   "metadata": {},
   "outputs": [
    {
     "ename": "NameError",
     "evalue": "name 'logger' is not defined",
     "output_type": "error",
     "traceback": [
      "\u001b[1;31m---------------------------------------------------------------------------\u001b[0m",
      "\u001b[1;31mNameError\u001b[0m                                 Traceback (most recent call last)",
      "\u001b[1;32m<ipython-input-4-e05822362fde>\u001b[0m in \u001b[0;36m<module>\u001b[1;34m\u001b[0m\n\u001b[1;32m----> 1\u001b[1;33m \u001b[0mlogger\u001b[0m\u001b[1;33m.\u001b[0m\u001b[0msync\u001b[0m\u001b[1;33m(\u001b[0m\u001b[1;33m)\u001b[0m\u001b[1;33m\u001b[0m\u001b[1;33m\u001b[0m\u001b[0m\n\u001b[0m",
      "\u001b[1;31mNameError\u001b[0m: name 'logger' is not defined"
     ]
    }
   ],
   "source": [
    "logger.sync()"
   ]
  },
  {
   "cell_type": "code",
   "execution_count": null,
   "id": "d038264c",
   "metadata": {
    "tags": []
   },
   "outputs": [],
   "source": [
    "logger.clear_all()\n",
    "logger.sync()\n",
    "\n",
    "#logger.auto_register(user_app_c_code_path)\n",
    "#logger.register('Theta_e')\n",
    "logger.register('instSpeed filtWm theta_mech Iq WmC', samples_per_sec = 2500,)\n",
    "#logger.register('IqCom IqAct IdCom IdAct', samples_per_sec = 10000, var_type = 'double')\n",
    "# View which variables are logged\n",
    "logger.info()\n",
    "logger.start()"
   ]
  },
  {
   "cell_type": "code",
   "execution_count": 12,
   "id": "2343d926",
   "metadata": {
    "tags": []
   },
   "outputs": [
    {
     "name": "stdout",
     "output_type": "stream",
     "text": [
      "\t> currReg busVolt 10.0\n",
      "['currReg busVolt 10.0', 'SUCCESS']\n",
      "\t> currReg init\n",
      "['currReg init', 'SUCCESS']\n",
      "\t> currReg speed 50.0\n",
      "['currReg speed 50.0', 'SUCCESS']\n"
     ]
    }
   ],
   "source": [
    "amdc.cmd(\"currReg busVolt 10.0\")\n",
    "amdc.cmd(\"currReg init\")\n",
    "amdc.cmd(\"currReg speed 50.0\")\n",
    "time.sleep(2)"
   ]
  },
  {
   "cell_type": "code",
   "execution_count": 9,
   "id": "d9d6e15c",
   "metadata": {
    "tags": []
   },
   "outputs": [
    {
     "name": "stdout",
     "output_type": "stream",
     "text": [
      "\t> currReg speed 250.0\n",
      "['currReg speed 250.0', 'SUCCESS']\n"
     ]
    }
   ],
   "source": [
    "amdc.cmd(\"currReg speed 250.0\")\n",
    "time.sleep(2)"
   ]
  },
  {
   "cell_type": "code",
   "execution_count": null,
   "id": "2d76593d",
   "metadata": {
    "tags": []
   },
   "outputs": [],
   "source": [
    "amdc.cmd(\"currReg speed -150.0\")\n",
    "time.sleep(2)\n",
    "amdc.cmd(\"currReg speed 0.0\")\n",
    "time.sleep(2)"
   ]
  },
  {
   "cell_type": "code",
   "execution_count": null,
   "id": "184af047",
   "metadata": {
    "tags": []
   },
   "outputs": [],
   "source": [
    "logger.stop()\n",
    "\n",
    "amdc."
   ]
  },
  {
   "cell_type": "code",
   "execution_count": null,
   "id": "874a8f7a",
   "metadata": {
    "tags": []
   },
   "outputs": [],
   "source": [
    "cmd(\"currReg speed 0.0\")\n",
    "time.sleep(1)"
   ]
  },
  {
   "cell_type": "code",
   "execution_count": 13,
   "id": "b1d7c6ca-946f-47ea-b222-864ca10729c4",
   "metadata": {
    "tags": []
   },
   "outputs": [
    {
     "name": "stdout",
     "output_type": "stream",
     "text": [
      "\t> currReg deinit\n",
      "['currReg deinit', 'SUCCESS']\n"
     ]
    },
    {
     "data": {
      "text/plain": [
       "['currReg deinit', 'SUCCESS']"
      ]
     },
     "execution_count": 13,
     "metadata": {},
     "output_type": "execute_result"
    }
   ],
   "source": [
    "amdc.cmd(\"currReg deinit\")"
   ]
  },
  {
   "cell_type": "code",
   "execution_count": 199,
   "id": "7fc4582e-840e-4c16-a0ab-ea004920ce3c",
   "metadata": {
    "tags": []
   },
   "outputs": [
    {
     "name": "stdout",
     "output_type": "stream",
     "text": [
      "\t> log dump bin 0\n",
      "Dumping: LOG_instSpeed\n",
      "Dump took: 14.533  sec\n",
      "Dump rate: 1949.710  sps\n",
      "Num samples: 28335 \n",
      "\n",
      "\t> log dump bin 1\n",
      "Dumping: LOG_filtWm\n",
      "Dump took: 14.551  sec\n",
      "Dump rate: 1947.234  sps\n",
      "Num samples: 28335 \n",
      "\n",
      "\t> log dump bin 2\n",
      "Dumping: LOG_theta_mech\n",
      "Dump took: 14.529  sec\n",
      "Dump rate: 1950.259  sps\n",
      "Num samples: 28335 \n",
      "\n",
      "\t> log dump bin 3\n",
      "Dumping: LOG_Iq\n",
      "Dump took: 14.549  sec\n",
      "Dump rate: 1947.590  sps\n",
      "Num samples: 28335 \n",
      "\n",
      "\t> log dump bin 4\n",
      "Dumping: LOG_WmC\n",
      "Dump took: 14.481  sec\n",
      "Dump rate: 1956.706  sps\n",
      "Num samples: 28335 \n",
      "\n"
     ]
    },
    {
     "data": {
      "text/plain": [
       "<AxesSubplot:xlabel='t'>"
      ]
     },
     "execution_count": 199,
     "metadata": {},
     "output_type": "execute_result"
    },
    {
     "data": {
      "image/png": "[encoded data removed]",
      "text/plain": [
       "<Figure size 432x288 with 1 Axes>"
      ]
     },
     "metadata": {
      "needs_background": "light"
     },
     "output_type": "display_data"
    }
   ],
   "source": [
    "#data = logger.dump()\n",
    "data = logger.dump(file = 'SpeedControl')\n",
    "#data = logger.dump(log_vars = 'instSpeed filtWm', file = 'MechanicalSpeed') #, comment = 'current sense offset calibration')\n",
    "#data = logger.dump(log_vars = 'Theta_e', file = 'ElectricalThetaDaxis3.csv')\n",
    "#data = logger.dump(log_vars = 'theta_mech instSpeed')\n",
    "\n",
    "data.plot()\n",
    "\n",
    "# data = logger.load('current_sensor_offset_cal.csv')"
   ]
  },
  {
   "cell_type": "code",
   "execution_count": null,
   "id": "23148a17",
   "metadata": {
    "tags": []
   },
   "outputs": [],
   "source": [
    "logger.clear_all()\n",
    "logger.unregister_all()"
   ]
  },
  {
   "cell_type": "code",
   "execution_count": 11,
   "id": "767422c1-1b79-456f-91f0-7aabd06fa864",
   "metadata": {
    "tags": []
   },
   "outputs": [
    {
     "ename": "NameError",
     "evalue": "name 'amdc' is not defined",
     "output_type": "error",
     "traceback": [
      "\u001b[1;31m---------------------------------------------------------------------------\u001b[0m",
      "\u001b[1;31mNameError\u001b[0m                                 Traceback (most recent call last)",
      "\u001b[1;32m<ipython-input-11-ed62237ea635>\u001b[0m in \u001b[0;36m<module>\u001b[1;34m\u001b[0m\n\u001b[1;32m----> 1\u001b[1;33m \u001b[0mamdc\u001b[0m\u001b[1;33m.\u001b[0m\u001b[0mdisconnect\u001b[0m\u001b[1;33m(\u001b[0m\u001b[1;33m)\u001b[0m\u001b[1;33m\u001b[0m\u001b[1;33m\u001b[0m\u001b[0m\n\u001b[0m",
      "\u001b[1;31mNameError\u001b[0m: name 'amdc' is not defined"
     ]
    }
   ],
   "source": [
    "amdc.disconnect()"
   ]
  },
  {
   "cell_type": "code",
   "execution_count": 76,
   "id": "be392c49-8dfc-416e-84fd-4f143f295058",
   "metadata": {
    "collapsed": true,
    "jupyter": {
     "outputs_hidden": true,
     "source_hidden": true
    },
    "tags": []
   },
   "outputs": [
    {
     "name": "stdout",
     "output_type": "stream",
     "text": [
      "Ia mean 1.312815975921891\n",
      "Ib mean 1.3138024320275072\n",
      "Ic mean 1.3154745567278867\n"
     ]
    }
   ],
   "source": [
    "# Compute average\n",
    "Ia_avg = np.mean(data['Ia'])\n",
    "Ib_avg = np.mean(data['Ib'])\n",
    "Ic_avg = np.mean(data['Ic'])\n",
    "\n",
    "print(f'Ia mean {Ia_avg}')\n",
    "print(f'Ib mean {Ib_avg}')\n",
    "print(f'Ic mean {Ic_avg}')"
   ]
  },
  {
   "cell_type": "code",
   "execution_count": 201,
   "id": "dd094faf-6e26-4917-b61e-70607f429444",
   "metadata": {},
   "outputs": [],
   "source": [
    "amdc.disconnect()"
   ]
  },
  {
   "cell_type": "code",
   "execution_count": 62,
   "id": "980dfa99-69b8-4745-8892-85a70198cbca",
   "metadata": {
    "collapsed": true,
    "jupyter": {
     "outputs_hidden": true
    },
    "tags": []
   },
   "outputs": [
    {
     "name": "stdout",
     "output_type": "stream",
     "text": [
      "Ia gain 9.948991219967057\n",
      "Ib gain 9.976913395045305\n",
      "Ic gain 10.166327939587392\n"
     ]
    }
   ],
   "source": [
    "Curr_Measured = 1.324\n",
    "Ia_gain = 1.324/Ia_avg\n",
    "Ib_gain = 1.324/Ib_avg\n",
    "Ic_gain = 1.324/Ic_avg\n",
    "print(f'Ia gain {Ia_gain}')\n",
    "print(f'Ib gain {Ib_gain}')\n",
    "print(f'Ic gain {Ic_gain}')"
   ]
  },
  {
   "cell_type": "code",
   "execution_count": 75,
   "id": "53196d7f-3a78-43e0-8881-afd81390833d",
   "metadata": {
    "tags": []
   },
   "outputs": [
    {
     "name": "stdout",
     "output_type": "stream",
     "text": [
      "\t> log info\n",
      "###################   AMDC LOGGER INFO   ###################\n",
      "\n",
      "Variable Name:      Index:         Type:         Sample Rate [Hz]:    Number of Samples:\n",
      "LOG_Theta_e           0            double              1000.0               6216     \n",
      "\n"
     ]
    }
   ],
   "source": [
    "logger.info()"
   ]
  },
  {
   "cell_type": "code",
   "execution_count": 137,
   "id": "a50d14fe-0354-4d86-be4c-c0b59d46fa43",
   "metadata": {},
   "outputs": [
    {
     "data": {
      "text/plain": [
       "65534.0"
      ]
     },
     "execution_count": 137,
     "metadata": {},
     "output_type": "execute_result"
    }
   ],
   "source": [
    "max(data.Theta_e)"
   ]
  },
  {
   "cell_type": "code",
   "execution_count": 114,
   "id": "fb5fc71f-65fa-4ae4-b78f-af0eaa349db6",
   "metadata": {},
   "outputs": [
    {
     "data": {
      "text/html": [
       "<div>\n",
       "<style scoped>\n",
       "    .dataframe tbody tr th:only-of-type {\n",
       "        vertical-align: middle;\n",
       "    }\n",
       "\n",
       "    .dataframe tbody tr th {\n",
       "        vertical-align: top;\n",
       "    }\n",
       "\n",
       "    .dataframe thead th {\n",
       "        text-align: right;\n",
       "    }\n",
       "</style>\n",
       "<table border=\"1\" class=\"dataframe\">\n",
       "  <thead>\n",
       "    <tr style=\"text-align: right;\">\n",
       "      <th></th>\n",
       "      <th>Theta_e</th>\n",
       "    </tr>\n",
       "    <tr>\n",
       "      <th>t</th>\n",
       "      <th></th>\n",
       "    </tr>\n",
       "  </thead>\n",
       "  <tbody>\n",
       "    <tr>\n",
       "      <th>0.000</th>\n",
       "      <td>16266.0</td>\n",
       "    </tr>\n",
       "    <tr>\n",
       "      <th>0.001</th>\n",
       "      <td>16266.0</td>\n",
       "    </tr>\n",
       "    <tr>\n",
       "      <th>0.002</th>\n",
       "      <td>16266.0</td>\n",
       "    </tr>\n",
       "    <tr>\n",
       "      <th>0.003</th>\n",
       "      <td>16266.0</td>\n",
       "    </tr>\n",
       "    <tr>\n",
       "      <th>0.004</th>\n",
       "      <td>16266.0</td>\n",
       "    </tr>\n",
       "    <tr>\n",
       "      <th>...</th>\n",
       "      <td>...</td>\n",
       "    </tr>\n",
       "    <tr>\n",
       "      <th>6.198</th>\n",
       "      <td>11981.0</td>\n",
       "    </tr>\n",
       "    <tr>\n",
       "      <th>6.199</th>\n",
       "      <td>11978.0</td>\n",
       "    </tr>\n",
       "    <tr>\n",
       "      <th>6.200</th>\n",
       "      <td>11976.0</td>\n",
       "    </tr>\n",
       "    <tr>\n",
       "      <th>6.201</th>\n",
       "      <td>11973.0</td>\n",
       "    </tr>\n",
       "    <tr>\n",
       "      <th>6.202</th>\n",
       "      <td>11971.0</td>\n",
       "    </tr>\n",
       "  </tbody>\n",
       "</table>\n",
       "<p>6203 rows × 1 columns</p>\n",
       "</div>"
      ],
      "text/plain": [
       "       Theta_e\n",
       "t             \n",
       "0.000  16266.0\n",
       "0.001  16266.0\n",
       "0.002  16266.0\n",
       "0.003  16266.0\n",
       "0.004  16266.0\n",
       "...        ...\n",
       "6.198  11981.0\n",
       "6.199  11978.0\n",
       "6.200  11976.0\n",
       "6.201  11973.0\n",
       "6.202  11971.0\n",
       "\n",
       "[6203 rows x 1 columns]"
      ]
     },
     "execution_count": 114,
     "metadata": {},
     "output_type": "execute_result"
    }
   ],
   "source": [
    "data"
   ]
  },
  {
   "cell_type": "code",
   "execution_count": null,
   "id": "7a7312f1-4a15-45e9-adb3-84ec9fbda4c9",
   "metadata": {},
   "outputs": [],
   "source": []
  }
 ],
 "metadata": {
  "kernelspec": {
   "display_name": "Python 3",
   "language": "python",
   "name": "python3"
  },
  "language_info": {
   "codemirror_mode": {
    "name": "ipython",
    "version": 3
   },
   "file_extension": ".py",
   "mimetype": "text/x-python",
   "name": "python",
   "nbconvert_exporter": "python",
   "pygments_lexer": "ipython3",
   "version": "3.9.4"
  }
 },
 "nbformat": 4,
 "nbformat_minor": 5
}
